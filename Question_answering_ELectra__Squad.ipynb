{
  "nbformat": 4,
  "nbformat_minor": 0,
  "metadata": {
    "colab": {
      "name": "Question_answering_ELectra _Squad.ipynb",
      "provenance": [],
      "collapsed_sections": [],
      "toc_visible": true
    },
    "kernelspec": {
      "name": "python3",
      "display_name": "Python 3"
    },
    "accelerator": "GPU",
    "widgets": {
      "application/vnd.jupyter.widget-state+json": {
        "6cf34febf13a44f4bccc616ffe0a073f": {
          "model_module": "@jupyter-widgets/controls",
          "model_name": "HBoxModel",
          "state": {
            "_view_name": "HBoxView",
            "_dom_classes": [],
            "_model_name": "HBoxModel",
            "_view_module": "@jupyter-widgets/controls",
            "_model_module_version": "1.5.0",
            "_view_count": null,
            "_view_module_version": "1.5.0",
            "box_style": "",
            "layout": "IPY_MODEL_c49dc6c3bf044d7e9b095fd38ea63432",
            "_model_module": "@jupyter-widgets/controls",
            "children": [
              "IPY_MODEL_1b74dfd577624e4ba1d09787aab57051",
              "IPY_MODEL_afbc6695deb844029e69eea4d0f0d90d"
            ]
          }
        },
        "c49dc6c3bf044d7e9b095fd38ea63432": {
          "model_module": "@jupyter-widgets/base",
          "model_name": "LayoutModel",
          "state": {
            "_view_name": "LayoutView",
            "grid_template_rows": null,
            "right": null,
            "justify_content": null,
            "_view_module": "@jupyter-widgets/base",
            "overflow": null,
            "_model_module_version": "1.2.0",
            "_view_count": null,
            "flex_flow": null,
            "width": null,
            "min_width": null,
            "border": null,
            "align_items": null,
            "bottom": null,
            "_model_module": "@jupyter-widgets/base",
            "top": null,
            "grid_column": null,
            "overflow_y": null,
            "overflow_x": null,
            "grid_auto_flow": null,
            "grid_area": null,
            "grid_template_columns": null,
            "flex": null,
            "_model_name": "LayoutModel",
            "justify_items": null,
            "grid_row": null,
            "max_height": null,
            "align_content": null,
            "visibility": null,
            "align_self": null,
            "height": null,
            "min_height": null,
            "padding": null,
            "grid_auto_rows": null,
            "grid_gap": null,
            "max_width": null,
            "order": null,
            "_view_module_version": "1.2.0",
            "grid_template_areas": null,
            "object_position": null,
            "object_fit": null,
            "grid_auto_columns": null,
            "margin": null,
            "display": null,
            "left": null
          }
        },
        "1b74dfd577624e4ba1d09787aab57051": {
          "model_module": "@jupyter-widgets/controls",
          "model_name": "FloatProgressModel",
          "state": {
            "_view_name": "ProgressView",
            "style": "IPY_MODEL_7418b6d361984fa0bcc92f36f90264e9",
            "_dom_classes": [],
            "description": "Downloading: 100%",
            "_model_name": "FloatProgressModel",
            "bar_style": "success",
            "max": 475,
            "_view_module": "@jupyter-widgets/controls",
            "_model_module_version": "1.5.0",
            "value": 475,
            "_view_count": null,
            "_view_module_version": "1.5.0",
            "orientation": "horizontal",
            "min": 0,
            "description_tooltip": null,
            "_model_module": "@jupyter-widgets/controls",
            "layout": "IPY_MODEL_83abbb02da3846b1bbf8565c8fa9b08c"
          }
        },
        "afbc6695deb844029e69eea4d0f0d90d": {
          "model_module": "@jupyter-widgets/controls",
          "model_name": "HTMLModel",
          "state": {
            "_view_name": "HTMLView",
            "style": "IPY_MODEL_bd60c9fd993f41c690ab33817be7ac31",
            "_dom_classes": [],
            "description": "",
            "_model_name": "HTMLModel",
            "placeholder": "​",
            "_view_module": "@jupyter-widgets/controls",
            "_model_module_version": "1.5.0",
            "value": " 475/475 [00:02&lt;00:00, 213B/s]",
            "_view_count": null,
            "_view_module_version": "1.5.0",
            "description_tooltip": null,
            "_model_module": "@jupyter-widgets/controls",
            "layout": "IPY_MODEL_558b0a7a7421471ab1881463971ce504"
          }
        },
        "7418b6d361984fa0bcc92f36f90264e9": {
          "model_module": "@jupyter-widgets/controls",
          "model_name": "ProgressStyleModel",
          "state": {
            "_view_name": "StyleView",
            "_model_name": "ProgressStyleModel",
            "description_width": "initial",
            "_view_module": "@jupyter-widgets/base",
            "_model_module_version": "1.5.0",
            "_view_count": null,
            "_view_module_version": "1.2.0",
            "bar_color": null,
            "_model_module": "@jupyter-widgets/controls"
          }
        },
        "83abbb02da3846b1bbf8565c8fa9b08c": {
          "model_module": "@jupyter-widgets/base",
          "model_name": "LayoutModel",
          "state": {
            "_view_name": "LayoutView",
            "grid_template_rows": null,
            "right": null,
            "justify_content": null,
            "_view_module": "@jupyter-widgets/base",
            "overflow": null,
            "_model_module_version": "1.2.0",
            "_view_count": null,
            "flex_flow": null,
            "width": null,
            "min_width": null,
            "border": null,
            "align_items": null,
            "bottom": null,
            "_model_module": "@jupyter-widgets/base",
            "top": null,
            "grid_column": null,
            "overflow_y": null,
            "overflow_x": null,
            "grid_auto_flow": null,
            "grid_area": null,
            "grid_template_columns": null,
            "flex": null,
            "_model_name": "LayoutModel",
            "justify_items": null,
            "grid_row": null,
            "max_height": null,
            "align_content": null,
            "visibility": null,
            "align_self": null,
            "height": null,
            "min_height": null,
            "padding": null,
            "grid_auto_rows": null,
            "grid_gap": null,
            "max_width": null,
            "order": null,
            "_view_module_version": "1.2.0",
            "grid_template_areas": null,
            "object_position": null,
            "object_fit": null,
            "grid_auto_columns": null,
            "margin": null,
            "display": null,
            "left": null
          }
        },
        "bd60c9fd993f41c690ab33817be7ac31": {
          "model_module": "@jupyter-widgets/controls",
          "model_name": "DescriptionStyleModel",
          "state": {
            "_view_name": "StyleView",
            "_model_name": "DescriptionStyleModel",
            "description_width": "",
            "_view_module": "@jupyter-widgets/base",
            "_model_module_version": "1.5.0",
            "_view_count": null,
            "_view_module_version": "1.2.0",
            "_model_module": "@jupyter-widgets/controls"
          }
        },
        "558b0a7a7421471ab1881463971ce504": {
          "model_module": "@jupyter-widgets/base",
          "model_name": "LayoutModel",
          "state": {
            "_view_name": "LayoutView",
            "grid_template_rows": null,
            "right": null,
            "justify_content": null,
            "_view_module": "@jupyter-widgets/base",
            "overflow": null,
            "_model_module_version": "1.2.0",
            "_view_count": null,
            "flex_flow": null,
            "width": null,
            "min_width": null,
            "border": null,
            "align_items": null,
            "bottom": null,
            "_model_module": "@jupyter-widgets/base",
            "top": null,
            "grid_column": null,
            "overflow_y": null,
            "overflow_x": null,
            "grid_auto_flow": null,
            "grid_area": null,
            "grid_template_columns": null,
            "flex": null,
            "_model_name": "LayoutModel",
            "justify_items": null,
            "grid_row": null,
            "max_height": null,
            "align_content": null,
            "visibility": null,
            "align_self": null,
            "height": null,
            "min_height": null,
            "padding": null,
            "grid_auto_rows": null,
            "grid_gap": null,
            "max_width": null,
            "order": null,
            "_view_module_version": "1.2.0",
            "grid_template_areas": null,
            "object_position": null,
            "object_fit": null,
            "grid_auto_columns": null,
            "margin": null,
            "display": null,
            "left": null
          }
        },
        "5abe87d79dbf4bb7bb5d038bf7f4cf1c": {
          "model_module": "@jupyter-widgets/controls",
          "model_name": "HBoxModel",
          "state": {
            "_view_name": "HBoxView",
            "_dom_classes": [],
            "_model_name": "HBoxModel",
            "_view_module": "@jupyter-widgets/controls",
            "_model_module_version": "1.5.0",
            "_view_count": null,
            "_view_module_version": "1.5.0",
            "box_style": "",
            "layout": "IPY_MODEL_15fbffef774d425a8121314aedef6860",
            "_model_module": "@jupyter-widgets/controls",
            "children": [
              "IPY_MODEL_df54a107f5a943c7bf918c9edfec775d",
              "IPY_MODEL_dd79c76fb63f4c46a3ccd7fe9798566d"
            ]
          }
        },
        "15fbffef774d425a8121314aedef6860": {
          "model_module": "@jupyter-widgets/base",
          "model_name": "LayoutModel",
          "state": {
            "_view_name": "LayoutView",
            "grid_template_rows": null,
            "right": null,
            "justify_content": null,
            "_view_module": "@jupyter-widgets/base",
            "overflow": null,
            "_model_module_version": "1.2.0",
            "_view_count": null,
            "flex_flow": null,
            "width": null,
            "min_width": null,
            "border": null,
            "align_items": null,
            "bottom": null,
            "_model_module": "@jupyter-widgets/base",
            "top": null,
            "grid_column": null,
            "overflow_y": null,
            "overflow_x": null,
            "grid_auto_flow": null,
            "grid_area": null,
            "grid_template_columns": null,
            "flex": null,
            "_model_name": "LayoutModel",
            "justify_items": null,
            "grid_row": null,
            "max_height": null,
            "align_content": null,
            "visibility": null,
            "align_self": null,
            "height": null,
            "min_height": null,
            "padding": null,
            "grid_auto_rows": null,
            "grid_gap": null,
            "max_width": null,
            "order": null,
            "_view_module_version": "1.2.0",
            "grid_template_areas": null,
            "object_position": null,
            "object_fit": null,
            "grid_auto_columns": null,
            "margin": null,
            "display": null,
            "left": null
          }
        },
        "df54a107f5a943c7bf918c9edfec775d": {
          "model_module": "@jupyter-widgets/controls",
          "model_name": "FloatProgressModel",
          "state": {
            "_view_name": "ProgressView",
            "style": "IPY_MODEL_fe5cffd37e904556bd06bf869307fd0c",
            "_dom_classes": [],
            "description": "Downloading: 100%",
            "_model_name": "FloatProgressModel",
            "bar_style": "success",
            "max": 231508,
            "_view_module": "@jupyter-widgets/controls",
            "_model_module_version": "1.5.0",
            "value": 231508,
            "_view_count": null,
            "_view_module_version": "1.5.0",
            "orientation": "horizontal",
            "min": 0,
            "description_tooltip": null,
            "_model_module": "@jupyter-widgets/controls",
            "layout": "IPY_MODEL_20e8969460544d6a837759aa7e9210cd"
          }
        },
        "dd79c76fb63f4c46a3ccd7fe9798566d": {
          "model_module": "@jupyter-widgets/controls",
          "model_name": "HTMLModel",
          "state": {
            "_view_name": "HTMLView",
            "style": "IPY_MODEL_e94186deb1974619bc3c248befb7e995",
            "_dom_classes": [],
            "description": "",
            "_model_name": "HTMLModel",
            "placeholder": "​",
            "_view_module": "@jupyter-widgets/controls",
            "_model_module_version": "1.5.0",
            "value": " 232k/232k [00:01&lt;00:00, 208kB/s]",
            "_view_count": null,
            "_view_module_version": "1.5.0",
            "description_tooltip": null,
            "_model_module": "@jupyter-widgets/controls",
            "layout": "IPY_MODEL_c9f2729e694e4dd1be1552c5f6850e5e"
          }
        },
        "fe5cffd37e904556bd06bf869307fd0c": {
          "model_module": "@jupyter-widgets/controls",
          "model_name": "ProgressStyleModel",
          "state": {
            "_view_name": "StyleView",
            "_model_name": "ProgressStyleModel",
            "description_width": "initial",
            "_view_module": "@jupyter-widgets/base",
            "_model_module_version": "1.5.0",
            "_view_count": null,
            "_view_module_version": "1.2.0",
            "bar_color": null,
            "_model_module": "@jupyter-widgets/controls"
          }
        },
        "20e8969460544d6a837759aa7e9210cd": {
          "model_module": "@jupyter-widgets/base",
          "model_name": "LayoutModel",
          "state": {
            "_view_name": "LayoutView",
            "grid_template_rows": null,
            "right": null,
            "justify_content": null,
            "_view_module": "@jupyter-widgets/base",
            "overflow": null,
            "_model_module_version": "1.2.0",
            "_view_count": null,
            "flex_flow": null,
            "width": null,
            "min_width": null,
            "border": null,
            "align_items": null,
            "bottom": null,
            "_model_module": "@jupyter-widgets/base",
            "top": null,
            "grid_column": null,
            "overflow_y": null,
            "overflow_x": null,
            "grid_auto_flow": null,
            "grid_area": null,
            "grid_template_columns": null,
            "flex": null,
            "_model_name": "LayoutModel",
            "justify_items": null,
            "grid_row": null,
            "max_height": null,
            "align_content": null,
            "visibility": null,
            "align_self": null,
            "height": null,
            "min_height": null,
            "padding": null,
            "grid_auto_rows": null,
            "grid_gap": null,
            "max_width": null,
            "order": null,
            "_view_module_version": "1.2.0",
            "grid_template_areas": null,
            "object_position": null,
            "object_fit": null,
            "grid_auto_columns": null,
            "margin": null,
            "display": null,
            "left": null
          }
        },
        "e94186deb1974619bc3c248befb7e995": {
          "model_module": "@jupyter-widgets/controls",
          "model_name": "DescriptionStyleModel",
          "state": {
            "_view_name": "StyleView",
            "_model_name": "DescriptionStyleModel",
            "description_width": "",
            "_view_module": "@jupyter-widgets/base",
            "_model_module_version": "1.5.0",
            "_view_count": null,
            "_view_module_version": "1.2.0",
            "_model_module": "@jupyter-widgets/controls"
          }
        },
        "c9f2729e694e4dd1be1552c5f6850e5e": {
          "model_module": "@jupyter-widgets/base",
          "model_name": "LayoutModel",
          "state": {
            "_view_name": "LayoutView",
            "grid_template_rows": null,
            "right": null,
            "justify_content": null,
            "_view_module": "@jupyter-widgets/base",
            "overflow": null,
            "_model_module_version": "1.2.0",
            "_view_count": null,
            "flex_flow": null,
            "width": null,
            "min_width": null,
            "border": null,
            "align_items": null,
            "bottom": null,
            "_model_module": "@jupyter-widgets/base",
            "top": null,
            "grid_column": null,
            "overflow_y": null,
            "overflow_x": null,
            "grid_auto_flow": null,
            "grid_area": null,
            "grid_template_columns": null,
            "flex": null,
            "_model_name": "LayoutModel",
            "justify_items": null,
            "grid_row": null,
            "max_height": null,
            "align_content": null,
            "visibility": null,
            "align_self": null,
            "height": null,
            "min_height": null,
            "padding": null,
            "grid_auto_rows": null,
            "grid_gap": null,
            "max_width": null,
            "order": null,
            "_view_module_version": "1.2.0",
            "grid_template_areas": null,
            "object_position": null,
            "object_fit": null,
            "grid_auto_columns": null,
            "margin": null,
            "display": null,
            "left": null
          }
        },
        "bb863a1a053d4c35b2949340a28e3332": {
          "model_module": "@jupyter-widgets/controls",
          "model_name": "HBoxModel",
          "state": {
            "_view_name": "HBoxView",
            "_dom_classes": [],
            "_model_name": "HBoxModel",
            "_view_module": "@jupyter-widgets/controls",
            "_model_module_version": "1.5.0",
            "_view_count": null,
            "_view_module_version": "1.5.0",
            "box_style": "",
            "layout": "IPY_MODEL_b814a7c77e8f477e95a88413315d3aa2",
            "_model_module": "@jupyter-widgets/controls",
            "children": [
              "IPY_MODEL_39b0c284ce89444bba49dee350330ac7",
              "IPY_MODEL_68be4967e34547c7b4ed12a409b871e9"
            ]
          }
        },
        "b814a7c77e8f477e95a88413315d3aa2": {
          "model_module": "@jupyter-widgets/base",
          "model_name": "LayoutModel",
          "state": {
            "_view_name": "LayoutView",
            "grid_template_rows": null,
            "right": null,
            "justify_content": null,
            "_view_module": "@jupyter-widgets/base",
            "overflow": null,
            "_model_module_version": "1.2.0",
            "_view_count": null,
            "flex_flow": null,
            "width": null,
            "min_width": null,
            "border": null,
            "align_items": null,
            "bottom": null,
            "_model_module": "@jupyter-widgets/base",
            "top": null,
            "grid_column": null,
            "overflow_y": null,
            "overflow_x": null,
            "grid_auto_flow": null,
            "grid_area": null,
            "grid_template_columns": null,
            "flex": null,
            "_model_name": "LayoutModel",
            "justify_items": null,
            "grid_row": null,
            "max_height": null,
            "align_content": null,
            "visibility": null,
            "align_self": null,
            "height": null,
            "min_height": null,
            "padding": null,
            "grid_auto_rows": null,
            "grid_gap": null,
            "max_width": null,
            "order": null,
            "_view_module_version": "1.2.0",
            "grid_template_areas": null,
            "object_position": null,
            "object_fit": null,
            "grid_auto_columns": null,
            "margin": null,
            "display": null,
            "left": null
          }
        },
        "39b0c284ce89444bba49dee350330ac7": {
          "model_module": "@jupyter-widgets/controls",
          "model_name": "FloatProgressModel",
          "state": {
            "_view_name": "ProgressView",
            "style": "IPY_MODEL_3ae15eded56f4d1b9899b0a150d939ad",
            "_dom_classes": [],
            "description": "Downloading: 100%",
            "_model_name": "FloatProgressModel",
            "bar_style": "success",
            "max": 112,
            "_view_module": "@jupyter-widgets/controls",
            "_model_module_version": "1.5.0",
            "value": 112,
            "_view_count": null,
            "_view_module_version": "1.5.0",
            "orientation": "horizontal",
            "min": 0,
            "description_tooltip": null,
            "_model_module": "@jupyter-widgets/controls",
            "layout": "IPY_MODEL_8e90cfd530f04d68a4f52e9312ec811b"
          }
        },
        "68be4967e34547c7b4ed12a409b871e9": {
          "model_module": "@jupyter-widgets/controls",
          "model_name": "HTMLModel",
          "state": {
            "_view_name": "HTMLView",
            "style": "IPY_MODEL_1c3a899d78084095b8a443ffc57df561",
            "_dom_classes": [],
            "description": "",
            "_model_name": "HTMLModel",
            "placeholder": "​",
            "_view_module": "@jupyter-widgets/controls",
            "_model_module_version": "1.5.0",
            "value": " 112/112 [00:00&lt;00:00, 212B/s]",
            "_view_count": null,
            "_view_module_version": "1.5.0",
            "description_tooltip": null,
            "_model_module": "@jupyter-widgets/controls",
            "layout": "IPY_MODEL_3b43d6ef3349402aaddb71438d4f3260"
          }
        },
        "3ae15eded56f4d1b9899b0a150d939ad": {
          "model_module": "@jupyter-widgets/controls",
          "model_name": "ProgressStyleModel",
          "state": {
            "_view_name": "StyleView",
            "_model_name": "ProgressStyleModel",
            "description_width": "initial",
            "_view_module": "@jupyter-widgets/base",
            "_model_module_version": "1.5.0",
            "_view_count": null,
            "_view_module_version": "1.2.0",
            "bar_color": null,
            "_model_module": "@jupyter-widgets/controls"
          }
        },
        "8e90cfd530f04d68a4f52e9312ec811b": {
          "model_module": "@jupyter-widgets/base",
          "model_name": "LayoutModel",
          "state": {
            "_view_name": "LayoutView",
            "grid_template_rows": null,
            "right": null,
            "justify_content": null,
            "_view_module": "@jupyter-widgets/base",
            "overflow": null,
            "_model_module_version": "1.2.0",
            "_view_count": null,
            "flex_flow": null,
            "width": null,
            "min_width": null,
            "border": null,
            "align_items": null,
            "bottom": null,
            "_model_module": "@jupyter-widgets/base",
            "top": null,
            "grid_column": null,
            "overflow_y": null,
            "overflow_x": null,
            "grid_auto_flow": null,
            "grid_area": null,
            "grid_template_columns": null,
            "flex": null,
            "_model_name": "LayoutModel",
            "justify_items": null,
            "grid_row": null,
            "max_height": null,
            "align_content": null,
            "visibility": null,
            "align_self": null,
            "height": null,
            "min_height": null,
            "padding": null,
            "grid_auto_rows": null,
            "grid_gap": null,
            "max_width": null,
            "order": null,
            "_view_module_version": "1.2.0",
            "grid_template_areas": null,
            "object_position": null,
            "object_fit": null,
            "grid_auto_columns": null,
            "margin": null,
            "display": null,
            "left": null
          }
        },
        "1c3a899d78084095b8a443ffc57df561": {
          "model_module": "@jupyter-widgets/controls",
          "model_name": "DescriptionStyleModel",
          "state": {
            "_view_name": "StyleView",
            "_model_name": "DescriptionStyleModel",
            "description_width": "",
            "_view_module": "@jupyter-widgets/base",
            "_model_module_version": "1.5.0",
            "_view_count": null,
            "_view_module_version": "1.2.0",
            "_model_module": "@jupyter-widgets/controls"
          }
        },
        "3b43d6ef3349402aaddb71438d4f3260": {
          "model_module": "@jupyter-widgets/base",
          "model_name": "LayoutModel",
          "state": {
            "_view_name": "LayoutView",
            "grid_template_rows": null,
            "right": null,
            "justify_content": null,
            "_view_module": "@jupyter-widgets/base",
            "overflow": null,
            "_model_module_version": "1.2.0",
            "_view_count": null,
            "flex_flow": null,
            "width": null,
            "min_width": null,
            "border": null,
            "align_items": null,
            "bottom": null,
            "_model_module": "@jupyter-widgets/base",
            "top": null,
            "grid_column": null,
            "overflow_y": null,
            "overflow_x": null,
            "grid_auto_flow": null,
            "grid_area": null,
            "grid_template_columns": null,
            "flex": null,
            "_model_name": "LayoutModel",
            "justify_items": null,
            "grid_row": null,
            "max_height": null,
            "align_content": null,
            "visibility": null,
            "align_self": null,
            "height": null,
            "min_height": null,
            "padding": null,
            "grid_auto_rows": null,
            "grid_gap": null,
            "max_width": null,
            "order": null,
            "_view_module_version": "1.2.0",
            "grid_template_areas": null,
            "object_position": null,
            "object_fit": null,
            "grid_auto_columns": null,
            "margin": null,
            "display": null,
            "left": null
          }
        },
        "19181a0505b84f38a00cba2602b7f112": {
          "model_module": "@jupyter-widgets/controls",
          "model_name": "HBoxModel",
          "state": {
            "_view_name": "HBoxView",
            "_dom_classes": [],
            "_model_name": "HBoxModel",
            "_view_module": "@jupyter-widgets/controls",
            "_model_module_version": "1.5.0",
            "_view_count": null,
            "_view_module_version": "1.5.0",
            "box_style": "",
            "layout": "IPY_MODEL_38a0eb97548d4c538a6d0ebcf2d27840",
            "_model_module": "@jupyter-widgets/controls",
            "children": [
              "IPY_MODEL_b37436a9fb304ce58c2301fd144455db",
              "IPY_MODEL_2f450db924d24e199bf3bb6bbd801d67"
            ]
          }
        },
        "38a0eb97548d4c538a6d0ebcf2d27840": {
          "model_module": "@jupyter-widgets/base",
          "model_name": "LayoutModel",
          "state": {
            "_view_name": "LayoutView",
            "grid_template_rows": null,
            "right": null,
            "justify_content": null,
            "_view_module": "@jupyter-widgets/base",
            "overflow": null,
            "_model_module_version": "1.2.0",
            "_view_count": null,
            "flex_flow": null,
            "width": null,
            "min_width": null,
            "border": null,
            "align_items": null,
            "bottom": null,
            "_model_module": "@jupyter-widgets/base",
            "top": null,
            "grid_column": null,
            "overflow_y": null,
            "overflow_x": null,
            "grid_auto_flow": null,
            "grid_area": null,
            "grid_template_columns": null,
            "flex": null,
            "_model_name": "LayoutModel",
            "justify_items": null,
            "grid_row": null,
            "max_height": null,
            "align_content": null,
            "visibility": null,
            "align_self": null,
            "height": null,
            "min_height": null,
            "padding": null,
            "grid_auto_rows": null,
            "grid_gap": null,
            "max_width": null,
            "order": null,
            "_view_module_version": "1.2.0",
            "grid_template_areas": null,
            "object_position": null,
            "object_fit": null,
            "grid_auto_columns": null,
            "margin": null,
            "display": null,
            "left": null
          }
        },
        "b37436a9fb304ce58c2301fd144455db": {
          "model_module": "@jupyter-widgets/controls",
          "model_name": "FloatProgressModel",
          "state": {
            "_view_name": "ProgressView",
            "style": "IPY_MODEL_95b364df86ba4ff0b1d71b09b81078a0",
            "_dom_classes": [],
            "description": "Downloading: 100%",
            "_model_name": "FloatProgressModel",
            "bar_style": "success",
            "max": 48,
            "_view_module": "@jupyter-widgets/controls",
            "_model_module_version": "1.5.0",
            "value": 48,
            "_view_count": null,
            "_view_module_version": "1.5.0",
            "orientation": "horizontal",
            "min": 0,
            "description_tooltip": null,
            "_model_module": "@jupyter-widgets/controls",
            "layout": "IPY_MODEL_5eb4f3be45b14df1a3ef527acc9f88f1"
          }
        },
        "2f450db924d24e199bf3bb6bbd801d67": {
          "model_module": "@jupyter-widgets/controls",
          "model_name": "HTMLModel",
          "state": {
            "_view_name": "HTMLView",
            "style": "IPY_MODEL_35257524a4de41e1adfaea06ad0425a3",
            "_dom_classes": [],
            "description": "",
            "_model_name": "HTMLModel",
            "placeholder": "​",
            "_view_module": "@jupyter-widgets/controls",
            "_model_module_version": "1.5.0",
            "value": " 48.0/48.0 [00:00&lt;00:00, 714B/s]",
            "_view_count": null,
            "_view_module_version": "1.5.0",
            "description_tooltip": null,
            "_model_module": "@jupyter-widgets/controls",
            "layout": "IPY_MODEL_0daa7fab0df84e2186f013f8385e3747"
          }
        },
        "95b364df86ba4ff0b1d71b09b81078a0": {
          "model_module": "@jupyter-widgets/controls",
          "model_name": "ProgressStyleModel",
          "state": {
            "_view_name": "StyleView",
            "_model_name": "ProgressStyleModel",
            "description_width": "initial",
            "_view_module": "@jupyter-widgets/base",
            "_model_module_version": "1.5.0",
            "_view_count": null,
            "_view_module_version": "1.2.0",
            "bar_color": null,
            "_model_module": "@jupyter-widgets/controls"
          }
        },
        "5eb4f3be45b14df1a3ef527acc9f88f1": {
          "model_module": "@jupyter-widgets/base",
          "model_name": "LayoutModel",
          "state": {
            "_view_name": "LayoutView",
            "grid_template_rows": null,
            "right": null,
            "justify_content": null,
            "_view_module": "@jupyter-widgets/base",
            "overflow": null,
            "_model_module_version": "1.2.0",
            "_view_count": null,
            "flex_flow": null,
            "width": null,
            "min_width": null,
            "border": null,
            "align_items": null,
            "bottom": null,
            "_model_module": "@jupyter-widgets/base",
            "top": null,
            "grid_column": null,
            "overflow_y": null,
            "overflow_x": null,
            "grid_auto_flow": null,
            "grid_area": null,
            "grid_template_columns": null,
            "flex": null,
            "_model_name": "LayoutModel",
            "justify_items": null,
            "grid_row": null,
            "max_height": null,
            "align_content": null,
            "visibility": null,
            "align_self": null,
            "height": null,
            "min_height": null,
            "padding": null,
            "grid_auto_rows": null,
            "grid_gap": null,
            "max_width": null,
            "order": null,
            "_view_module_version": "1.2.0",
            "grid_template_areas": null,
            "object_position": null,
            "object_fit": null,
            "grid_auto_columns": null,
            "margin": null,
            "display": null,
            "left": null
          }
        },
        "35257524a4de41e1adfaea06ad0425a3": {
          "model_module": "@jupyter-widgets/controls",
          "model_name": "DescriptionStyleModel",
          "state": {
            "_view_name": "StyleView",
            "_model_name": "DescriptionStyleModel",
            "description_width": "",
            "_view_module": "@jupyter-widgets/base",
            "_model_module_version": "1.5.0",
            "_view_count": null,
            "_view_module_version": "1.2.0",
            "_model_module": "@jupyter-widgets/controls"
          }
        },
        "0daa7fab0df84e2186f013f8385e3747": {
          "model_module": "@jupyter-widgets/base",
          "model_name": "LayoutModel",
          "state": {
            "_view_name": "LayoutView",
            "grid_template_rows": null,
            "right": null,
            "justify_content": null,
            "_view_module": "@jupyter-widgets/base",
            "overflow": null,
            "_model_module_version": "1.2.0",
            "_view_count": null,
            "flex_flow": null,
            "width": null,
            "min_width": null,
            "border": null,
            "align_items": null,
            "bottom": null,
            "_model_module": "@jupyter-widgets/base",
            "top": null,
            "grid_column": null,
            "overflow_y": null,
            "overflow_x": null,
            "grid_auto_flow": null,
            "grid_area": null,
            "grid_template_columns": null,
            "flex": null,
            "_model_name": "LayoutModel",
            "justify_items": null,
            "grid_row": null,
            "max_height": null,
            "align_content": null,
            "visibility": null,
            "align_self": null,
            "height": null,
            "min_height": null,
            "padding": null,
            "grid_auto_rows": null,
            "grid_gap": null,
            "max_width": null,
            "order": null,
            "_view_module_version": "1.2.0",
            "grid_template_areas": null,
            "object_position": null,
            "object_fit": null,
            "grid_auto_columns": null,
            "margin": null,
            "display": null,
            "left": null
          }
        },
        "43abc42bf27a4e35a248086c1e04b60c": {
          "model_module": "@jupyter-widgets/controls",
          "model_name": "HBoxModel",
          "state": {
            "_view_name": "HBoxView",
            "_dom_classes": [],
            "_model_name": "HBoxModel",
            "_view_module": "@jupyter-widgets/controls",
            "_model_module_version": "1.5.0",
            "_view_count": null,
            "_view_module_version": "1.5.0",
            "box_style": "",
            "layout": "IPY_MODEL_d8637d2ff3994bd58af7c59416adfa07",
            "_model_module": "@jupyter-widgets/controls",
            "children": [
              "IPY_MODEL_9286f498ce864e0b8b009dee5b38a2c6",
              "IPY_MODEL_a42c39ff575e4637a812993589f80f8c"
            ]
          }
        },
        "d8637d2ff3994bd58af7c59416adfa07": {
          "model_module": "@jupyter-widgets/base",
          "model_name": "LayoutModel",
          "state": {
            "_view_name": "LayoutView",
            "grid_template_rows": null,
            "right": null,
            "justify_content": null,
            "_view_module": "@jupyter-widgets/base",
            "overflow": null,
            "_model_module_version": "1.2.0",
            "_view_count": null,
            "flex_flow": null,
            "width": null,
            "min_width": null,
            "border": null,
            "align_items": null,
            "bottom": null,
            "_model_module": "@jupyter-widgets/base",
            "top": null,
            "grid_column": null,
            "overflow_y": null,
            "overflow_x": null,
            "grid_auto_flow": null,
            "grid_area": null,
            "grid_template_columns": null,
            "flex": null,
            "_model_name": "LayoutModel",
            "justify_items": null,
            "grid_row": null,
            "max_height": null,
            "align_content": null,
            "visibility": null,
            "align_self": null,
            "height": null,
            "min_height": null,
            "padding": null,
            "grid_auto_rows": null,
            "grid_gap": null,
            "max_width": null,
            "order": null,
            "_view_module_version": "1.2.0",
            "grid_template_areas": null,
            "object_position": null,
            "object_fit": null,
            "grid_auto_columns": null,
            "margin": null,
            "display": null,
            "left": null
          }
        },
        "9286f498ce864e0b8b009dee5b38a2c6": {
          "model_module": "@jupyter-widgets/controls",
          "model_name": "FloatProgressModel",
          "state": {
            "_view_name": "ProgressView",
            "style": "IPY_MODEL_52e0e0187bb246f4a0bb09a50a806eb9",
            "_dom_classes": [],
            "description": "Downloading: 100%",
            "_model_name": "FloatProgressModel",
            "bar_style": "success",
            "max": 1336478856,
            "_view_module": "@jupyter-widgets/controls",
            "_model_module_version": "1.5.0",
            "value": 1336478856,
            "_view_count": null,
            "_view_module_version": "1.5.0",
            "orientation": "horizontal",
            "min": 0,
            "description_tooltip": null,
            "_model_module": "@jupyter-widgets/controls",
            "layout": "IPY_MODEL_51142362b35a44489b4787368ad3dff2"
          }
        },
        "a42c39ff575e4637a812993589f80f8c": {
          "model_module": "@jupyter-widgets/controls",
          "model_name": "HTMLModel",
          "state": {
            "_view_name": "HTMLView",
            "style": "IPY_MODEL_7b10a73a98bc4c2a92001b27897c0c12",
            "_dom_classes": [],
            "description": "",
            "_model_name": "HTMLModel",
            "placeholder": "​",
            "_view_module": "@jupyter-widgets/controls",
            "_model_module_version": "1.5.0",
            "value": " 1.34G/1.34G [00:24&lt;00:00, 55.0MB/s]",
            "_view_count": null,
            "_view_module_version": "1.5.0",
            "description_tooltip": null,
            "_model_module": "@jupyter-widgets/controls",
            "layout": "IPY_MODEL_1d11348dac2f4ac58cb94120e3ba93c7"
          }
        },
        "52e0e0187bb246f4a0bb09a50a806eb9": {
          "model_module": "@jupyter-widgets/controls",
          "model_name": "ProgressStyleModel",
          "state": {
            "_view_name": "StyleView",
            "_model_name": "ProgressStyleModel",
            "description_width": "initial",
            "_view_module": "@jupyter-widgets/base",
            "_model_module_version": "1.5.0",
            "_view_count": null,
            "_view_module_version": "1.2.0",
            "bar_color": null,
            "_model_module": "@jupyter-widgets/controls"
          }
        },
        "51142362b35a44489b4787368ad3dff2": {
          "model_module": "@jupyter-widgets/base",
          "model_name": "LayoutModel",
          "state": {
            "_view_name": "LayoutView",
            "grid_template_rows": null,
            "right": null,
            "justify_content": null,
            "_view_module": "@jupyter-widgets/base",
            "overflow": null,
            "_model_module_version": "1.2.0",
            "_view_count": null,
            "flex_flow": null,
            "width": null,
            "min_width": null,
            "border": null,
            "align_items": null,
            "bottom": null,
            "_model_module": "@jupyter-widgets/base",
            "top": null,
            "grid_column": null,
            "overflow_y": null,
            "overflow_x": null,
            "grid_auto_flow": null,
            "grid_area": null,
            "grid_template_columns": null,
            "flex": null,
            "_model_name": "LayoutModel",
            "justify_items": null,
            "grid_row": null,
            "max_height": null,
            "align_content": null,
            "visibility": null,
            "align_self": null,
            "height": null,
            "min_height": null,
            "padding": null,
            "grid_auto_rows": null,
            "grid_gap": null,
            "max_width": null,
            "order": null,
            "_view_module_version": "1.2.0",
            "grid_template_areas": null,
            "object_position": null,
            "object_fit": null,
            "grid_auto_columns": null,
            "margin": null,
            "display": null,
            "left": null
          }
        },
        "7b10a73a98bc4c2a92001b27897c0c12": {
          "model_module": "@jupyter-widgets/controls",
          "model_name": "DescriptionStyleModel",
          "state": {
            "_view_name": "StyleView",
            "_model_name": "DescriptionStyleModel",
            "description_width": "",
            "_view_module": "@jupyter-widgets/base",
            "_model_module_version": "1.5.0",
            "_view_count": null,
            "_view_module_version": "1.2.0",
            "_model_module": "@jupyter-widgets/controls"
          }
        },
        "1d11348dac2f4ac58cb94120e3ba93c7": {
          "model_module": "@jupyter-widgets/base",
          "model_name": "LayoutModel",
          "state": {
            "_view_name": "LayoutView",
            "grid_template_rows": null,
            "right": null,
            "justify_content": null,
            "_view_module": "@jupyter-widgets/base",
            "overflow": null,
            "_model_module_version": "1.2.0",
            "_view_count": null,
            "flex_flow": null,
            "width": null,
            "min_width": null,
            "border": null,
            "align_items": null,
            "bottom": null,
            "_model_module": "@jupyter-widgets/base",
            "top": null,
            "grid_column": null,
            "overflow_y": null,
            "overflow_x": null,
            "grid_auto_flow": null,
            "grid_area": null,
            "grid_template_columns": null,
            "flex": null,
            "_model_name": "LayoutModel",
            "justify_items": null,
            "grid_row": null,
            "max_height": null,
            "align_content": null,
            "visibility": null,
            "align_self": null,
            "height": null,
            "min_height": null,
            "padding": null,
            "grid_auto_rows": null,
            "grid_gap": null,
            "max_width": null,
            "order": null,
            "_view_module_version": "1.2.0",
            "grid_template_areas": null,
            "object_position": null,
            "object_fit": null,
            "grid_auto_columns": null,
            "margin": null,
            "display": null,
            "left": null
          }
        }
      }
    }
  },
  "cells": [
    {
      "cell_type": "markdown",
      "metadata": {
        "id": "W-1zl5XdYInf"
      },
      "source": [
        "# Question Answering with a Fine-Tuned ELECTRA\n"
      ]
    },
    {
      "cell_type": "markdown",
      "metadata": {
        "id": "_PnY1N5kje-j"
      },
      "source": [
        "# New section"
      ]
    },
    {
      "cell_type": "markdown",
      "metadata": {
        "id": "X2bUvKUffHNY"
      },
      "source": [
        "# Part 1: How ELECTRA is applied to Question Answering"
      ]
    },
    {
      "cell_type": "markdown",
      "metadata": {
        "id": "Su7fixBdiUex"
      },
      "source": [
        "## The SQuAD v1.1 Benchmark"
      ]
    },
    {
      "cell_type": "markdown",
      "metadata": {
        "id": "bT5ESKDxfnLf"
      },
      "source": [
        "When someone mentions \"Question Answering\" as an application of Electra, what they are really referring to is applying Electra to the Stanford Question Answering Dataset (SQuAD).\n",
        "\n",
        "The task posed by the SQuAD benchmark is a little different than you might think. Given a question, and *a passage of text containing the answer*, Electra needs to highlight the \"span\" of text corresponding to the correct answer. \n",
        "\n",
        "The SQuAD homepage has a fantastic tool for exploring the questions and reference text for this dataset, and even shows the predictions made by top-performing models.\n",
        "\n",
        "For example, here are some [interesting examples](https://rajpurkar.github.io/SQuAD-explorer/explore/1.1/dev/Super_Bowl_50.html?model=r-net+%20(ensemble)%20(Microsoft%20Research%20Asia)&version=1.1) on the topic of Super Bowl 50.\n"
      ]
    },
    {
      "cell_type": "markdown",
      "metadata": {
        "id": "_xN5f1bxf6K_"
      },
      "source": [
        "## Electra Input Format"
      ]
    },
    {
      "cell_type": "markdown",
      "metadata": {
        "id": "Ctum5SK6f9uP"
      },
      "source": [
        "To feed a QA task into Electra, we pack both the question and the reference text into the input.\n",
        "\n",
        "\n",
        "The two pieces of text are separated by the special `[SEP]` token. \n",
        "\n",
        "Electra also uses \"Segment Embeddings\" to differentiate the question from the reference text. These are simply two embeddings (for segments \"A\" and \"B\") that Electra learned, and which it adds to the token embeddings before feeding them into the input layer. "
      ]
    },
    {
      "cell_type": "markdown",
      "metadata": {
        "id": "xs31dcrPg5Tg"
      },
      "source": [
        "## Start & End Token Classifiers"
      ]
    },
    {
      "cell_type": "markdown",
      "metadata": {
        "id": "lvOdUa9Wg-Uv"
      },
      "source": [
        "Electra needs to highlight a \"span\" of text containing the answer--this is represented as simply predicting which token marks the start of the answer, and which token marks the end.\n",
        "\n",
        "\n",
        "For every token in the text, we feed its final embedding into the start token classifier. The start token classifier only has a single set of weights (represented by the blue \"start\" rectangle in the above illustration) which it applies to every word.\n",
        "\n",
        "After taking the dot product between the output embeddings and the 'start' weights, we apply the softmax activation to produce a probability distribution over all of the words. Whichever word has the highest probability of being the start token is the one that we pick.\n",
        "\n",
        "We repeat this process for the end token--we have a separate weight vector this.\n"
      ]
    },
    {
      "cell_type": "markdown",
      "metadata": {
        "id": "457VPa20fZzY"
      },
      "source": [
        "# Part 2: Example Code"
      ]
    },
    {
      "cell_type": "markdown",
      "metadata": {
        "id": "9wpCLgVCkki5"
      },
      "source": [
        "In the example code below, we'll be downloading a model that's *already been fine-tuned* for question answering, and try it out on our own text.\n",
        "\n",
        "If you do want to fine-tune on your own dataset, it is possible to fine-tune Electra for question answering yourself. See [run_squad.py](https://github.com/huggingface/transformers/blob/master/examples/run_squad.py) in the `transformers` library. However,you may find that the below \"fine-tuned-on-squad\" model already does a good job, even if your text is from a different domain. \n",
        "\n",
        "."
      ]
    },
    {
      "cell_type": "markdown",
      "metadata": {
        "id": "gVq-TuylYRDW"
      },
      "source": [
        "## 1. Install huggingface transformers library"
      ]
    },
    {
      "cell_type": "markdown",
      "metadata": {
        "id": "f9nhy3PzGQ44"
      },
      "source": [
        "This example uses the `transformers` [library](https://github.com/huggingface/transformers/) by huggingface. We'll start by installing the package."
      ]
    },
    {
      "cell_type": "code",
      "metadata": {
        "id": "7eeGj964u0j-"
      },
      "source": [
        "\r\n",
        "import numpy as np # linear algebra\r\n",
        "import pandas as pd"
      ],
      "execution_count": null,
      "outputs": []
    },
    {
      "cell_type": "code",
      "metadata": {
        "id": "-MuyNXJcu0oy",
        "colab": {
          "base_uri": "https://localhost:8080/"
        },
        "outputId": "28009359-4b0f-4ba1-8663-8c4895bac83b"
      },
      "source": [
        "import torch\r\n",
        "if torch.cuda.is_available():  \r\n",
        "    device = torch.device(\"cuda\")\r\n",
        "    print('We will use the GPU:', torch.cuda.get_device_name(0))\r\n",
        "    \r\n",
        "else:\r\n",
        "    print('No GPU available, using the CPU instead.')\r\n",
        "    device = torch.device(\"cpu\")"
      ],
      "execution_count": null,
      "outputs": [
        {
          "output_type": "stream",
          "text": [
            "We will use the GPU: Tesla T4\n"
          ],
          "name": "stdout"
        }
      ]
    },
    {
      "cell_type": "code",
      "metadata": {
        "id": "AQCPMYCku0r0"
      },
      "source": [
        "# Utilities\r\n",
        "from time import time\r\n",
        "from PIL import Image\r\n",
        "from zipfile import ZipFile\r\n",
        "import os, sys, itertools, re\r\n",
        "import warnings, pickle, string\r\n",
        "\r\n",
        "from wordcloud import WordCloud, STOPWORDS, ImageColorGenerator\r\n",
        "\r\n",
        "# Translation APIs"
      ],
      "execution_count": null,
      "outputs": []
    },
    {
      "cell_type": "code",
      "metadata": {
        "id": "aQl0MMrOGIup",
        "colab": {
          "base_uri": "https://localhost:8080/"
        },
        "outputId": "32ce00c2-342d-450f-f96d-df1a01a6d871"
      },
      "source": [
        "!pip install transformers"
      ],
      "execution_count": null,
      "outputs": [
        {
          "output_type": "stream",
          "text": [
            "Collecting transformers\n",
            "\u001b[?25l  Downloading https://files.pythonhosted.org/packages/ed/db/98c3ea1a78190dac41c0127a063abf92bd01b4b0b6970a6db1c2f5b66fa0/transformers-4.0.1-py3-none-any.whl (1.4MB)\n",
            "\r\u001b[K     |▎                               | 10kB 19.3MB/s eta 0:00:01\r\u001b[K     |▌                               | 20kB 25.7MB/s eta 0:00:01\r\u001b[K     |▊                               | 30kB 16.2MB/s eta 0:00:01\r\u001b[K     |█                               | 40kB 11.5MB/s eta 0:00:01\r\u001b[K     |█▏                              | 51kB 7.9MB/s eta 0:00:01\r\u001b[K     |█▌                              | 61kB 8.4MB/s eta 0:00:01\r\u001b[K     |█▊                              | 71kB 8.6MB/s eta 0:00:01\r\u001b[K     |██                              | 81kB 8.7MB/s eta 0:00:01\r\u001b[K     |██▏                             | 92kB 8.7MB/s eta 0:00:01\r\u001b[K     |██▍                             | 102kB 9.0MB/s eta 0:00:01\r\u001b[K     |██▋                             | 112kB 9.0MB/s eta 0:00:01\r\u001b[K     |███                             | 122kB 9.0MB/s eta 0:00:01\r\u001b[K     |███▏                            | 133kB 9.0MB/s eta 0:00:01\r\u001b[K     |███▍                            | 143kB 9.0MB/s eta 0:00:01\r\u001b[K     |███▋                            | 153kB 9.0MB/s eta 0:00:01\r\u001b[K     |███▉                            | 163kB 9.0MB/s eta 0:00:01\r\u001b[K     |████▏                           | 174kB 9.0MB/s eta 0:00:01\r\u001b[K     |████▍                           | 184kB 9.0MB/s eta 0:00:01\r\u001b[K     |████▋                           | 194kB 9.0MB/s eta 0:00:01\r\u001b[K     |████▉                           | 204kB 9.0MB/s eta 0:00:01\r\u001b[K     |█████                           | 215kB 9.0MB/s eta 0:00:01\r\u001b[K     |█████▎                          | 225kB 9.0MB/s eta 0:00:01\r\u001b[K     |█████▋                          | 235kB 9.0MB/s eta 0:00:01\r\u001b[K     |█████▉                          | 245kB 9.0MB/s eta 0:00:01\r\u001b[K     |██████                          | 256kB 9.0MB/s eta 0:00:01\r\u001b[K     |██████▎                         | 266kB 9.0MB/s eta 0:00:01\r\u001b[K     |██████▌                         | 276kB 9.0MB/s eta 0:00:01\r\u001b[K     |██████▉                         | 286kB 9.0MB/s eta 0:00:01\r\u001b[K     |███████                         | 296kB 9.0MB/s eta 0:00:01\r\u001b[K     |███████▎                        | 307kB 9.0MB/s eta 0:00:01\r\u001b[K     |███████▌                        | 317kB 9.0MB/s eta 0:00:01\r\u001b[K     |███████▊                        | 327kB 9.0MB/s eta 0:00:01\r\u001b[K     |████████                        | 337kB 9.0MB/s eta 0:00:01\r\u001b[K     |████████▎                       | 348kB 9.0MB/s eta 0:00:01\r\u001b[K     |████████▌                       | 358kB 9.0MB/s eta 0:00:01\r\u001b[K     |████████▊                       | 368kB 9.0MB/s eta 0:00:01\r\u001b[K     |█████████                       | 378kB 9.0MB/s eta 0:00:01\r\u001b[K     |█████████▏                      | 389kB 9.0MB/s eta 0:00:01\r\u001b[K     |█████████▌                      | 399kB 9.0MB/s eta 0:00:01\r\u001b[K     |█████████▊                      | 409kB 9.0MB/s eta 0:00:01\r\u001b[K     |██████████                      | 419kB 9.0MB/s eta 0:00:01\r\u001b[K     |██████████▏                     | 430kB 9.0MB/s eta 0:00:01\r\u001b[K     |██████████▍                     | 440kB 9.0MB/s eta 0:00:01\r\u001b[K     |██████████▋                     | 450kB 9.0MB/s eta 0:00:01\r\u001b[K     |███████████                     | 460kB 9.0MB/s eta 0:00:01\r\u001b[K     |███████████▏                    | 471kB 9.0MB/s eta 0:00:01\r\u001b[K     |███████████▍                    | 481kB 9.0MB/s eta 0:00:01\r\u001b[K     |███████████▋                    | 491kB 9.0MB/s eta 0:00:01\r\u001b[K     |███████████▉                    | 501kB 9.0MB/s eta 0:00:01\r\u001b[K     |████████████▏                   | 512kB 9.0MB/s eta 0:00:01\r\u001b[K     |████████████▍                   | 522kB 9.0MB/s eta 0:00:01\r\u001b[K     |████████████▋                   | 532kB 9.0MB/s eta 0:00:01\r\u001b[K     |████████████▉                   | 542kB 9.0MB/s eta 0:00:01\r\u001b[K     |█████████████                   | 552kB 9.0MB/s eta 0:00:01\r\u001b[K     |█████████████▎                  | 563kB 9.0MB/s eta 0:00:01\r\u001b[K     |█████████████▋                  | 573kB 9.0MB/s eta 0:00:01\r\u001b[K     |█████████████▉                  | 583kB 9.0MB/s eta 0:00:01\r\u001b[K     |██████████████                  | 593kB 9.0MB/s eta 0:00:01\r\u001b[K     |██████████████▎                 | 604kB 9.0MB/s eta 0:00:01\r\u001b[K     |██████████████▌                 | 614kB 9.0MB/s eta 0:00:01\r\u001b[K     |██████████████▉                 | 624kB 9.0MB/s eta 0:00:01\r\u001b[K     |███████████████                 | 634kB 9.0MB/s eta 0:00:01\r\u001b[K     |███████████████▎                | 645kB 9.0MB/s eta 0:00:01\r\u001b[K     |███████████████▌                | 655kB 9.0MB/s eta 0:00:01\r\u001b[K     |███████████████▊                | 665kB 9.0MB/s eta 0:00:01\r\u001b[K     |████████████████                | 675kB 9.0MB/s eta 0:00:01\r\u001b[K     |████████████████▎               | 686kB 9.0MB/s eta 0:00:01\r\u001b[K     |████████████████▌               | 696kB 9.0MB/s eta 0:00:01\r\u001b[K     |████████████████▊               | 706kB 9.0MB/s eta 0:00:01\r\u001b[K     |█████████████████               | 716kB 9.0MB/s eta 0:00:01\r\u001b[K     |█████████████████▏              | 727kB 9.0MB/s eta 0:00:01\r\u001b[K     |█████████████████▌              | 737kB 9.0MB/s eta 0:00:01\r\u001b[K     |█████████████████▊              | 747kB 9.0MB/s eta 0:00:01\r\u001b[K     |██████████████████              | 757kB 9.0MB/s eta 0:00:01\r\u001b[K     |██████████████████▏             | 768kB 9.0MB/s eta 0:00:01\r\u001b[K     |██████████████████▍             | 778kB 9.0MB/s eta 0:00:01\r\u001b[K     |██████████████████▋             | 788kB 9.0MB/s eta 0:00:01\r\u001b[K     |███████████████████             | 798kB 9.0MB/s eta 0:00:01\r\u001b[K     |███████████████████▏            | 808kB 9.0MB/s eta 0:00:01\r\u001b[K     |███████████████████▍            | 819kB 9.0MB/s eta 0:00:01\r\u001b[K     |███████████████████▋            | 829kB 9.0MB/s eta 0:00:01\r\u001b[K     |███████████████████▉            | 839kB 9.0MB/s eta 0:00:01\r\u001b[K     |████████████████████▏           | 849kB 9.0MB/s eta 0:00:01\r\u001b[K     |████████████████████▍           | 860kB 9.0MB/s eta 0:00:01\r\u001b[K     |████████████████████▋           | 870kB 9.0MB/s eta 0:00:01\r\u001b[K     |████████████████████▉           | 880kB 9.0MB/s eta 0:00:01\r\u001b[K     |█████████████████████           | 890kB 9.0MB/s eta 0:00:01\r\u001b[K     |█████████████████████▎          | 901kB 9.0MB/s eta 0:00:01\r\u001b[K     |█████████████████████▋          | 911kB 9.0MB/s eta 0:00:01\r\u001b[K     |█████████████████████▉          | 921kB 9.0MB/s eta 0:00:01\r\u001b[K     |██████████████████████          | 931kB 9.0MB/s eta 0:00:01\r\u001b[K     |██████████████████████▎         | 942kB 9.0MB/s eta 0:00:01\r\u001b[K     |██████████████████████▌         | 952kB 9.0MB/s eta 0:00:01\r\u001b[K     |██████████████████████▊         | 962kB 9.0MB/s eta 0:00:01\r\u001b[K     |███████████████████████         | 972kB 9.0MB/s eta 0:00:01\r\u001b[K     |███████████████████████▎        | 983kB 9.0MB/s eta 0:00:01\r\u001b[K     |███████████████████████▌        | 993kB 9.0MB/s eta 0:00:01\r\u001b[K     |███████████████████████▊        | 1.0MB 9.0MB/s eta 0:00:01\r\u001b[K     |████████████████████████        | 1.0MB 9.0MB/s eta 0:00:01\r\u001b[K     |████████████████████████▎       | 1.0MB 9.0MB/s eta 0:00:01\r\u001b[K     |████████████████████████▌       | 1.0MB 9.0MB/s eta 0:00:01\r\u001b[K     |████████████████████████▊       | 1.0MB 9.0MB/s eta 0:00:01\r\u001b[K     |█████████████████████████       | 1.1MB 9.0MB/s eta 0:00:01\r\u001b[K     |█████████████████████████▏      | 1.1MB 9.0MB/s eta 0:00:01\r\u001b[K     |█████████████████████████▍      | 1.1MB 9.0MB/s eta 0:00:01\r\u001b[K     |█████████████████████████▊      | 1.1MB 9.0MB/s eta 0:00:01\r\u001b[K     |██████████████████████████      | 1.1MB 9.0MB/s eta 0:00:01\r\u001b[K     |██████████████████████████▏     | 1.1MB 9.0MB/s eta 0:00:01\r\u001b[K     |██████████████████████████▍     | 1.1MB 9.0MB/s eta 0:00:01\r\u001b[K     |██████████████████████████▋     | 1.1MB 9.0MB/s eta 0:00:01\r\u001b[K     |███████████████████████████     | 1.1MB 9.0MB/s eta 0:00:01\r\u001b[K     |███████████████████████████▏    | 1.1MB 9.0MB/s eta 0:00:01\r\u001b[K     |███████████████████████████▍    | 1.2MB 9.0MB/s eta 0:00:01\r\u001b[K     |███████████████████████████▋    | 1.2MB 9.0MB/s eta 0:00:01\r\u001b[K     |███████████████████████████▉    | 1.2MB 9.0MB/s eta 0:00:01\r\u001b[K     |████████████████████████████    | 1.2MB 9.0MB/s eta 0:00:01\r\u001b[K     |████████████████████████████▍   | 1.2MB 9.0MB/s eta 0:00:01\r\u001b[K     |████████████████████████████▋   | 1.2MB 9.0MB/s eta 0:00:01\r\u001b[K     |████████████████████████████▉   | 1.2MB 9.0MB/s eta 0:00:01\r\u001b[K     |█████████████████████████████   | 1.2MB 9.0MB/s eta 0:00:01\r\u001b[K     |█████████████████████████████▎  | 1.2MB 9.0MB/s eta 0:00:01\r\u001b[K     |█████████████████████████████▋  | 1.2MB 9.0MB/s eta 0:00:01\r\u001b[K     |█████████████████████████████▉  | 1.3MB 9.0MB/s eta 0:00:01\r\u001b[K     |██████████████████████████████  | 1.3MB 9.0MB/s eta 0:00:01\r\u001b[K     |██████████████████████████████▎ | 1.3MB 9.0MB/s eta 0:00:01\r\u001b[K     |██████████████████████████████▌ | 1.3MB 9.0MB/s eta 0:00:01\r\u001b[K     |██████████████████████████████▊ | 1.3MB 9.0MB/s eta 0:00:01\r\u001b[K     |███████████████████████████████ | 1.3MB 9.0MB/s eta 0:00:01\r\u001b[K     |███████████████████████████████▎| 1.3MB 9.0MB/s eta 0:00:01\r\u001b[K     |███████████████████████████████▌| 1.3MB 9.0MB/s eta 0:00:01\r\u001b[K     |███████████████████████████████▊| 1.3MB 9.0MB/s eta 0:00:01\r\u001b[K     |████████████████████████████████| 1.4MB 9.0MB/s eta 0:00:01\r\u001b[K     |████████████████████████████████| 1.4MB 9.0MB/s \n",
            "\u001b[?25hRequirement already satisfied: filelock in /usr/local/lib/python3.6/dist-packages (from transformers) (3.0.12)\n",
            "Requirement already satisfied: regex!=2019.12.17 in /usr/local/lib/python3.6/dist-packages (from transformers) (2019.12.20)\n",
            "Requirement already satisfied: requests in /usr/local/lib/python3.6/dist-packages (from transformers) (2.23.0)\n",
            "Requirement already satisfied: dataclasses; python_version < \"3.7\" in /usr/local/lib/python3.6/dist-packages (from transformers) (0.8)\n",
            "Collecting tokenizers==0.9.4\n",
            "\u001b[?25l  Downloading https://files.pythonhosted.org/packages/0f/1c/e789a8b12e28be5bc1ce2156cf87cb522b379be9cadc7ad8091a4cc107c4/tokenizers-0.9.4-cp36-cp36m-manylinux2010_x86_64.whl (2.9MB)\n",
            "\u001b[K     |████████████████████████████████| 2.9MB 32.2MB/s \n",
            "\u001b[?25hRequirement already satisfied: numpy in /usr/local/lib/python3.6/dist-packages (from transformers) (1.18.5)\n",
            "Requirement already satisfied: packaging in /usr/local/lib/python3.6/dist-packages (from transformers) (20.7)\n",
            "Collecting sacremoses\n",
            "\u001b[?25l  Downloading https://files.pythonhosted.org/packages/7d/34/09d19aff26edcc8eb2a01bed8e98f13a1537005d31e95233fd48216eed10/sacremoses-0.0.43.tar.gz (883kB)\n",
            "\u001b[K     |████████████████████████████████| 890kB 48.1MB/s \n",
            "\u001b[?25hRequirement already satisfied: tqdm>=4.27 in /usr/local/lib/python3.6/dist-packages (from transformers) (4.41.1)\n",
            "Requirement already satisfied: idna<3,>=2.5 in /usr/local/lib/python3.6/dist-packages (from requests->transformers) (2.10)\n",
            "Requirement already satisfied: urllib3!=1.25.0,!=1.25.1,<1.26,>=1.21.1 in /usr/local/lib/python3.6/dist-packages (from requests->transformers) (1.24.3)\n",
            "Requirement already satisfied: chardet<4,>=3.0.2 in /usr/local/lib/python3.6/dist-packages (from requests->transformers) (3.0.4)\n",
            "Requirement already satisfied: certifi>=2017.4.17 in /usr/local/lib/python3.6/dist-packages (from requests->transformers) (2020.12.5)\n",
            "Requirement already satisfied: pyparsing>=2.0.2 in /usr/local/lib/python3.6/dist-packages (from packaging->transformers) (2.4.7)\n",
            "Requirement already satisfied: six in /usr/local/lib/python3.6/dist-packages (from sacremoses->transformers) (1.15.0)\n",
            "Requirement already satisfied: click in /usr/local/lib/python3.6/dist-packages (from sacremoses->transformers) (7.1.2)\n",
            "Requirement already satisfied: joblib in /usr/local/lib/python3.6/dist-packages (from sacremoses->transformers) (0.17.0)\n",
            "Building wheels for collected packages: sacremoses\n",
            "  Building wheel for sacremoses (setup.py) ... \u001b[?25l\u001b[?25hdone\n",
            "  Created wheel for sacremoses: filename=sacremoses-0.0.43-cp36-none-any.whl size=893261 sha256=66cf8538fd1ec695898a73ecb2f37a8dfa970abd0e2d20af2337ebf1d7fa0be4\n",
            "  Stored in directory: /root/.cache/pip/wheels/29/3c/fd/7ce5c3f0666dab31a50123635e6fb5e19ceb42ce38d4e58f45\n",
            "Successfully built sacremoses\n",
            "Installing collected packages: tokenizers, sacremoses, transformers\n",
            "Successfully installed sacremoses-0.0.43 tokenizers-0.9.4 transformers-4.0.1\n"
          ],
          "name": "stdout"
        }
      ]
    },
    {
      "cell_type": "code",
      "metadata": {
        "id": "-ONLrgJK99TQ"
      },
      "source": [
        "import torch"
      ],
      "execution_count": null,
      "outputs": []
    },
    {
      "cell_type": "markdown",
      "metadata": {
        "id": "1WThOUtpYvG-"
      },
      "source": [
        "## 2. Load Fine-Tuned Electra-large"
      ]
    },
    {
      "cell_type": "markdown",
      "metadata": {
        "id": "AaweLnNXGhTY"
      },
      "source": [
        "For Question Answering we use the `ElectraForQuestionAnswering` class from the `transformers` library.\n",
        "\n",
        "This class supports fine-tuning, but for this example we will keep things simpler and load a Electra model that has already been fine-tuned for the SQuAD benchmark.\n",
        "\n",
        "The `transformers` library has a large collection of pre-trained models which you can reference by name and load easily. The full list is in their documentation [here](https://huggingface.co/transformers/pretrained_models.html).\n",
        "\n",
        "For Question Answering, they have a version of Electra-large that has already been fine-tuned for the SQuAD benchmark. \n",
        "\n",
        "Electra-large is really big... it has 24-layers and an embedding size of 1,024, for a total of 340M parameters! Altogether it is 1.34GB, so expect it to take a couple minutes to download to your Colab instance. \n",
        "\n",
        "(Note that this download is not using your own network bandwidth--it's between the Google instance and wherever the model is stored on the web).\n",
        "\n",
        "Note: I believe this model was trained on version 1 of SQuAD, since it's not outputting whether the question is \"impossible\" to answer from the text (which is part of the task in v2 of SQuAD).\n"
      ]
    },
    {
      "cell_type": "code",
      "metadata": {
        "id": "-Mnv95sX-U9K",
        "colab": {
          "base_uri": "https://localhost:8080/",
          "height": 262,
          "referenced_widgets": [
            "6cf34febf13a44f4bccc616ffe0a073f",
            "c49dc6c3bf044d7e9b095fd38ea63432",
            "1b74dfd577624e4ba1d09787aab57051",
            "afbc6695deb844029e69eea4d0f0d90d",
            "7418b6d361984fa0bcc92f36f90264e9",
            "83abbb02da3846b1bbf8565c8fa9b08c",
            "bd60c9fd993f41c690ab33817be7ac31",
            "558b0a7a7421471ab1881463971ce504",
            "5abe87d79dbf4bb7bb5d038bf7f4cf1c",
            "15fbffef774d425a8121314aedef6860",
            "df54a107f5a943c7bf918c9edfec775d",
            "dd79c76fb63f4c46a3ccd7fe9798566d",
            "fe5cffd37e904556bd06bf869307fd0c",
            "20e8969460544d6a837759aa7e9210cd",
            "e94186deb1974619bc3c248befb7e995",
            "c9f2729e694e4dd1be1552c5f6850e5e",
            "bb863a1a053d4c35b2949340a28e3332",
            "b814a7c77e8f477e95a88413315d3aa2",
            "39b0c284ce89444bba49dee350330ac7",
            "68be4967e34547c7b4ed12a409b871e9",
            "3ae15eded56f4d1b9899b0a150d939ad",
            "8e90cfd530f04d68a4f52e9312ec811b",
            "1c3a899d78084095b8a443ffc57df561",
            "3b43d6ef3349402aaddb71438d4f3260",
            "19181a0505b84f38a00cba2602b7f112",
            "38a0eb97548d4c538a6d0ebcf2d27840",
            "b37436a9fb304ce58c2301fd144455db",
            "2f450db924d24e199bf3bb6bbd801d67",
            "95b364df86ba4ff0b1d71b09b81078a0",
            "5eb4f3be45b14df1a3ef527acc9f88f1",
            "35257524a4de41e1adfaea06ad0425a3",
            "0daa7fab0df84e2186f013f8385e3747",
            "43abc42bf27a4e35a248086c1e04b60c",
            "d8637d2ff3994bd58af7c59416adfa07",
            "9286f498ce864e0b8b009dee5b38a2c6",
            "a42c39ff575e4637a812993589f80f8c",
            "52e0e0187bb246f4a0bb09a50a806eb9",
            "51142362b35a44489b4787368ad3dff2",
            "7b10a73a98bc4c2a92001b27897c0c12",
            "1d11348dac2f4ac58cb94120e3ba93c7"
          ]
        },
        "outputId": "b0a0a42b-670f-427f-a511-0357e78b0614"
      },
      "source": [
        "from transformers import AutoTokenizer, AutoModelForQuestionAnswering\n",
        "\n",
        "tokenizer = AutoTokenizer.from_pretrained(\"ahotrod/electra_large_discriminator_squad2_512\")\n",
        "\n",
        "model= AutoModelForQuestionAnswering.from_pretrained(\"ahotrod/electra_large_discriminator_squad2_512\",return_dict=False)\n"
      ],
      "execution_count": null,
      "outputs": [
        {
          "output_type": "display_data",
          "data": {
            "application/vnd.jupyter.widget-view+json": {
              "model_id": "6cf34febf13a44f4bccc616ffe0a073f",
              "version_minor": 0,
              "version_major": 2
            },
            "text/plain": [
              "HBox(children=(FloatProgress(value=0.0, description='Downloading', max=475.0, style=ProgressStyle(description_…"
            ]
          },
          "metadata": {
            "tags": []
          }
        },
        {
          "output_type": "stream",
          "text": [
            "\n"
          ],
          "name": "stdout"
        },
        {
          "output_type": "display_data",
          "data": {
            "application/vnd.jupyter.widget-view+json": {
              "model_id": "5abe87d79dbf4bb7bb5d038bf7f4cf1c",
              "version_minor": 0,
              "version_major": 2
            },
            "text/plain": [
              "HBox(children=(FloatProgress(value=0.0, description='Downloading', max=231508.0, style=ProgressStyle(descripti…"
            ]
          },
          "metadata": {
            "tags": []
          }
        },
        {
          "output_type": "stream",
          "text": [
            "\n"
          ],
          "name": "stdout"
        },
        {
          "output_type": "display_data",
          "data": {
            "application/vnd.jupyter.widget-view+json": {
              "model_id": "bb863a1a053d4c35b2949340a28e3332",
              "version_minor": 0,
              "version_major": 2
            },
            "text/plain": [
              "HBox(children=(FloatProgress(value=0.0, description='Downloading', max=112.0, style=ProgressStyle(description_…"
            ]
          },
          "metadata": {
            "tags": []
          }
        },
        {
          "output_type": "stream",
          "text": [
            "\n"
          ],
          "name": "stdout"
        },
        {
          "output_type": "display_data",
          "data": {
            "application/vnd.jupyter.widget-view+json": {
              "model_id": "19181a0505b84f38a00cba2602b7f112",
              "version_minor": 0,
              "version_major": 2
            },
            "text/plain": [
              "HBox(children=(FloatProgress(value=0.0, description='Downloading', max=48.0, style=ProgressStyle(description_w…"
            ]
          },
          "metadata": {
            "tags": []
          }
        },
        {
          "output_type": "stream",
          "text": [
            "\n"
          ],
          "name": "stdout"
        },
        {
          "output_type": "display_data",
          "data": {
            "application/vnd.jupyter.widget-view+json": {
              "model_id": "43abc42bf27a4e35a248086c1e04b60c",
              "version_minor": 0,
              "version_major": 2
            },
            "text/plain": [
              "HBox(children=(FloatProgress(value=0.0, description='Downloading', max=1336478856.0, style=ProgressStyle(descr…"
            ]
          },
          "metadata": {
            "tags": []
          }
        },
        {
          "output_type": "stream",
          "text": [
            "\n"
          ],
          "name": "stdout"
        }
      ]
    },
    {
      "cell_type": "markdown",
      "metadata": {
        "id": "8imoOxoqGZ0h"
      },
      "source": [
        "Load the tokenizer as well. \n",
        "\n",
        "Side note: Apparently the vocabulary of this model is identicaly to the one in Electra-base-uncased. You can load the tokenizer from `Electra-base-uncased` and that works just as well."
      ]
    },
    {
      "cell_type": "markdown",
      "metadata": {
        "id": "I__1ubvcZYow"
      },
      "source": [
        "## 3. Ask a Question"
      ]
    },
    {
      "cell_type": "markdown",
      "metadata": {
        "id": "o8MQ7b-GJIcM"
      },
      "source": [
        "Now we're ready to feed in an example!\n",
        "\n",
        "A QA example consists of a question and a passage of text containing the answer to that question.\n",
        "\n",
        "Let's try an example using the text in this tutorial!"
      ]
    },
    {
      "cell_type": "code",
      "metadata": {
        "id": "kWzZP4EN-Zxg"
      },
      "source": [
        "question = r\"\"\"How many parameters does Bert-large have?\"\"\"\n",
        "text = r\"\"\"Bert-large is really big... it has 24-layers and an embedding size of 1,024, for a total of 340M parameters! Altogether it is 1.34GB, so expect it to take a couple minutes to download to your Colab instance.\"\"\""
      ],
      "execution_count": null,
      "outputs": []
    },
    {
      "cell_type": "markdown",
      "metadata": {
        "id": "llLvxhScKLZn"
      },
      "source": [
        "We'll need to run the ELECTRA tokenizer against both the `question` and the `answer_text`. To feed these into ELECTRA, we actually concatenate them together and place the special [SEP] token in between.\n"
      ]
    },
    {
      "cell_type": "code",
      "metadata": {
        "id": "kNrfisDKTWrm"
      },
      "source": [
        "import tensorflow as tf"
      ],
      "execution_count": null,
      "outputs": []
    },
    {
      "cell_type": "code",
      "metadata": {
        "colab": {
          "base_uri": "https://localhost:8080/"
        },
        "id": "6jG6EpJhSmeI",
        "outputId": "b859a9c9-a85e-4c8f-fdba-ce490c5c30cb"
      },
      "source": [
        "input_text=question+\"[SEP]\"+text\r\n",
        "inputs = tokenizer(question, text, add_special_tokens=True, return_tensors=\"pt\")\r\n",
        "input_ids = inputs[\"input_ids\"].tolist()[0] \r\n",
        "print(input)\r\n",
        "print(input_ids)\r\n",
        "\r\n"
      ],
      "execution_count": null,
      "outputs": [
        {
          "output_type": "stream",
          "text": [
            "<bound method Kernel.raw_input of <google.colab._kernel.Kernel object at 0x7fa2c8e563c8>>\n",
            "[101, 2129, 2116, 11709, 2515, 14324, 1011, 2312, 2031, 1029, 102, 14324, 1011, 2312, 2003, 2428, 2502, 1012, 1012, 1012, 2009, 2038, 2484, 1011, 9014, 1998, 2019, 7861, 8270, 4667, 2946, 1997, 1015, 1010, 6185, 2549, 1010, 2005, 1037, 2561, 1997, 16029, 2213, 11709, 999, 10462, 2009, 2003, 1015, 1012, 4090, 18259, 1010, 2061, 5987, 2009, 2000, 2202, 1037, 3232, 2781, 2000, 8816, 2000, 2115, 15270, 2497, 6013, 1012, 102]\n"
          ],
          "name": "stdout"
        }
      ]
    },
    {
      "cell_type": "code",
      "metadata": {
        "id": "JM_q234EwRgQ"
      },
      "source": [
        "text_tokens = tokenizer.convert_ids_to_tokens(input_ids) # Get the tokens for the question + context\r\n",
        "answer_start_scores, answer_end_scores = model(**inputs)\r\n",
        "    "
      ],
      "execution_count": null,
      "outputs": []
    },
    {
      "cell_type": "code",
      "metadata": {
        "colab": {
          "base_uri": "https://localhost:8080/"
        },
        "id": "TvJtew5uwXwz",
        "outputId": "6d3fb72d-e28a-4faa-fd22-98b0d87e400c"
      },
      "source": [
        "answer_start = torch.argmax(answer_start_scores)  # Get the most likely beginning of answer with the argmax of the score\r\n",
        "answer_end = torch.argmax(answer_end_scores) + 1  # Get the most likely end of answer with the argmax of the score\r\n",
        "# Combine the tokens in the answer and print it out.\r\n",
        "answer = ' '.join(text_tokens[answer_start:answer_end+1])\r\n",
        "\r\n",
        "print('Answer: \"' + answer + '\"')"
      ],
      "execution_count": null,
      "outputs": [
        {
          "output_type": "stream",
          "text": [
            "Answer: \"340 ##m parameters\"\n"
          ],
          "name": "stdout"
        }
      ]
    },
    {
      "cell_type": "code",
      "metadata": {
        "colab": {
          "base_uri": "https://localhost:8080/"
        },
        "id": "9laxvUM4wvZn",
        "outputId": "a3a6db1e-98db-4c69-d21b-c25b0498425e"
      },
      "source": [
        "answer = tokenizer.convert_tokens_to_string(tokenizer.convert_ids_to_tokens(input_ids[answer_start:answer_end]))\r\n",
        "    \r\n",
        "print(f\"Question: {question}\")\r\n",
        "print(f\"Answer: {answer}\")"
      ],
      "execution_count": null,
      "outputs": [
        {
          "output_type": "stream",
          "text": [
            "Question: How many parameters does Bert-large have?\n",
            "Answer: 340m\n"
          ],
          "name": "stdout"
        }
      ]
    },
    {
      "cell_type": "code",
      "metadata": {
        "id": "NjUHkIqywvhC"
      },
      "source": [
        ""
      ],
      "execution_count": null,
      "outputs": []
    },
    {
      "cell_type": "markdown",
      "metadata": {
        "id": "twMUWmr2brRw"
      },
      "source": [
        "It got it right! Awesome :)"
      ]
    },
    {
      "cell_type": "markdown",
      "metadata": {
        "id": "cERYCGKMbOXX"
      },
      "source": [
        "> *Side Note: It's a little naive to pick the highest scores for start and end--what if it predicts an end word that's before the start word?! The correct implementation is to pick the highest total score for which end >= start.*"
      ]
    },
    {
      "cell_type": "markdown",
      "metadata": {
        "id": "N6j2znkwXYsn"
      },
      "source": [
        "With a little more effort, we can reconstruct any words that got broken down into subwords."
      ]
    },
    {
      "cell_type": "code",
      "metadata": {
        "id": "Khral6HZXCuI",
        "colab": {
          "base_uri": "https://localhost:8080/"
        },
        "outputId": "4ff61e9f-c3fb-43be-9e36-e3d173a49805"
      },
      "source": [
        "# Start with the first token.\n",
        "answer = text_tokens[answer_start]\n",
        "\n",
        "# Select the remaining answer tokens and join them with whitespace.\n",
        "for i in range(answer_start + 1, answer_end + 1):\n",
        "    \n",
        "    # If it's a subword token, then recombine it with the previous token.\n",
        "    if text_tokens[i][0:2] == '##':\n",
        "        answer += text_tokens[i][2:]\n",
        "    \n",
        "    # Otherwise, add a space then the token.\n",
        "    else:\n",
        "        answer += ' ' + text_tokens[i]\n",
        "\n",
        "print('Answer: \"' + answer + '\"')"
      ],
      "execution_count": null,
      "outputs": [
        {
          "output_type": "stream",
          "text": [
            "Answer: \"340m parameters\"\n"
          ],
          "name": "stdout"
        }
      ]
    },
    {
      "cell_type": "markdown",
      "metadata": {
        "id": "-hh6nkIdXq-O"
      },
      "source": [
        "## 4. Visualizing Scores"
      ]
    },
    {
      "cell_type": "markdown",
      "metadata": {
        "id": "-hG2YCHYXtg-"
      },
      "source": [
        "I was curious to see what the scores were for all of the words. The following cells generate bar plots showing the start and end scores for every word in the input."
      ]
    },
    {
      "cell_type": "code",
      "metadata": {
        "id": "gkKFa73eJkPE"
      },
      "source": [
        "import matplotlib.pyplot as plt\n",
        "import seaborn as sns\n",
        "\n",
        "# Use plot styling from seaborn.\n",
        "sns.set(style='darkgrid')\n",
        "\n",
        "# Increase the plot size and font size.\n",
        "#sns.set(font_scale=1.5)\n",
        "plt.rcParams[\"figure.figsize\"] = (16,8)"
      ],
      "execution_count": null,
      "outputs": []
    },
    {
      "cell_type": "markdown",
      "metadata": {
        "id": "-5uod6cqyHGX"
      },
      "source": [
        ""
      ]
    },
    {
      "cell_type": "markdown",
      "metadata": {
        "id": "W7kazkb2iEuQ"
      },
      "source": [
        "Retrieve all of the start and end scores, and use all of the tokens as x-axis labels."
      ]
    },
    {
      "cell_type": "code",
      "metadata": {
        "id": "C56AtMg2UBxN"
      },
      "source": [
        "# Pull the scores out of PyTorch Tensors and convert them to 1D numpy arrays.\n",
        "s_scores = answer_start_scores.detach().numpy().flatten()\n",
        "e_scores = answer_end_scores.detach().numpy().flatten()\n",
        "\n",
        "# We'll use the tokens as the x-axis labels. In order to do that, they all need\n",
        "# to be unique, so we'll add the token index to the end of each one.\n",
        "token_labels = []\n",
        "for (i, text_token) in enumerate(text_tokens):\n",
        "    token_labels.append('{:} - {:>2}'.format(text_token, i))\n"
      ],
      "execution_count": null,
      "outputs": []
    },
    {
      "cell_type": "markdown",
      "metadata": {
        "id": "NIaW7RyTiLeu"
      },
      "source": [
        "Create a bar plot showing the score for every input word being the \"start\" word."
      ]
    },
    {
      "cell_type": "code",
      "metadata": {
        "id": "y6OAV1dL3-UB",
        "colab": {
          "base_uri": "https://localhost:8080/",
          "height": 581
        },
        "outputId": "c627d406-d946-4263-91fe-cfb3c21b867e"
      },
      "source": [
        "# Create a barplot showing the start word score for all of the tokens.\n",
        "ax = sns.barplot(x=token_labels, y=s_scores, ci=None)\n",
        "\n",
        "# Turn the xlabels vertical.\n",
        "ax.set_xticklabels(ax.get_xticklabels(), rotation=90, ha=\"center\")\n",
        "\n",
        "# Turn on the vertical grid to help align words to scores.\n",
        "ax.grid(True)\n",
        "\n",
        "plt.title('Start Word Scores')\n",
        "\n",
        "plt.show()"
      ],
      "execution_count": null,
      "outputs": [
        {
          "output_type": "display_data",
          "data": {
            "image/png": "[encoded data removed]",
            "text/plain": [
              "<Figure size 1152x576 with 1 Axes>"
            ]
          },
          "metadata": {
            "tags": []
          }
        }
      ]
    },
    {
      "cell_type": "markdown",
      "metadata": {
        "id": "zIwrF7y6iS1l"
      },
      "source": [
        "Create a second bar plot showing the score for every input word being the \"end\" word."
      ]
    },
    {
      "cell_type": "code",
      "metadata": {
        "id": "6tXEqIp-Tzou",
        "colab": {
          "base_uri": "https://localhost:8080/",
          "height": 581
        },
        "outputId": "862fa183-d07b-4683-c973-99a97cad0a83"
      },
      "source": [
        "# Create a barplot showing the end word score for all of the tokens.\n",
        "ax = sns.barplot(x=token_labels, y=e_scores, ci=None)\n",
        "\n",
        "# Turn the xlabels vertical.\n",
        "ax.set_xticklabels(ax.get_xticklabels(), rotation=90, ha=\"center\")\n",
        "\n",
        "# Turn on the vertical grid to help align words to scores.\n",
        "ax.grid(True)\n",
        "\n",
        "plt.title('End Word Scores')\n",
        "\n",
        "plt.show()"
      ],
      "execution_count": null,
      "outputs": [
        {
          "output_type": "display_data",
          "data": {
            "image/png": "[encoded data removed]",
            "text/plain": [
              "<Figure size 1152x576 with 1 Axes>"
            ]
          },
          "metadata": {
            "tags": []
          }
        }
      ]
    },
    {
      "cell_type": "markdown",
      "metadata": {
        "id": "awgi7Z_a9KSq"
      },
      "source": [
        "**Alternate View**\n",
        "\n",
        "I also tried visualizing both the start and end scores on a single bar plot, but I think it may actually be more confusing then seeing them separately. "
      ]
    },
    {
      "cell_type": "code",
      "metadata": {
        "id": "m4VUk6R05uXS"
      },
      "source": [
        "import pandas as pd\n",
        "\n",
        "# Store the tokens and scores in a DataFrame. \n",
        "# Each token will have two rows, one for its start score and one for its end\n",
        "# score. The \"marker\" column will differentiate them. A little wacky, I know.\n",
        "scores = []\n",
        "for (i, token_label) in enumerate(token_labels):\n",
        "\n",
        "    # Add the token's start score as one row.\n",
        "    scores.append({'token_label': token_label, \n",
        "                   'score': s_scores[i],\n",
        "                   'marker': 'start'})\n",
        "    \n",
        "    # Add  the token's end score as another row.\n",
        "    scores.append({'token_label': token_label, \n",
        "                   'score': e_scores[i],\n",
        "                   'marker': 'end'})\n",
        "    \n",
        "df = pd.DataFrame(scores)\n"
      ],
      "execution_count": null,
      "outputs": []
    },
    {
      "cell_type": "code",
      "metadata": {
        "id": "07xyo-I97Ntt",
        "colab": {
          "base_uri": "https://localhost:8080/",
          "height": 445
        },
        "outputId": "a954a21c-1dc6-434d-9b8c-f79401035559"
      },
      "source": [
        "# Draw a grouped barplot to show start and end scores for each word.\n",
        "# The \"hue\" parameter is where we tell it which datapoints belong to which\n",
        "# of the two series.\n",
        "g = sns.catplot(x=\"token_label\", y=\"score\", hue=\"marker\", data=df,\n",
        "                kind=\"bar\", height=6, aspect=4)\n",
        "\n",
        "# Turn the xlabels vertical.\n",
        "g.set_xticklabels(g.ax.get_xticklabels(), rotation=90, ha=\"center\")\n",
        "\n",
        "# Turn on the vertical grid to help align words to scores.\n",
        "g.ax.grid(True)\n"
      ],
      "execution_count": null,
      "outputs": [
        {
          "output_type": "display_data",
          "data": {
            "image/png": "[encoded data removed]",
            "text/plain": [
              "<Figure size 1793.47x432 with 1 Axes>"
            ]
          },
          "metadata": {
            "tags": []
          }
        }
      ]
    },
    {
      "cell_type": "markdown",
      "metadata": {
        "id": "8UyBYNmeegGf"
      },
      "source": [
        "## 5. More Examples"
      ]
    },
    {
      "cell_type": "markdown",
      "metadata": {
        "id": "MWtcRpPef-Ce"
      },
      "source": [
        "Turn the QA process into a function so we can easily try out other examples."
      ]
    },
    {
      "cell_type": "code",
      "metadata": {
        "id": "rH8NbBlsfxZ_"
      },
      "source": [
        "def answer_question(question, text):\n",
        "\n",
        "  inputs = tokenizer(question, text, add_special_tokens=True, return_tensors=\"pt\")\n",
        "  input_ids = inputs[\"input_ids\"].tolist()[0] # the list of all indices of words in question + context\n",
        "    \n",
        "  text_tokens = tokenizer.convert_ids_to_tokens(input_ids) # Get the tokens for the question + context\n",
        "  answer_start_scores, answer_end_scores = model(**inputs)\n",
        "    \n",
        "  answer_start = torch.argmax(answer_start_scores)  # Get the most likely beginning of answer with the argmax of the score\n",
        "  answer_end = torch.argmax(answer_end_scores) + 1  # Get the most likely end of answer with the argmax of the score\n",
        "    \n",
        "  answer = tokenizer.convert_tokens_to_string(tokenizer.convert_ids_to_tokens(input_ids[answer_start:answer_end]))\n",
        "    \n",
        "  print(f\"Question: {question}\")\n",
        "  print(f\"Answer: {answer}\")\n",
        "    \n"
      ],
      "execution_count": null,
      "outputs": []
    },
    {
      "cell_type": "markdown",
      "metadata": {
        "id": "DVlKTK-njWrX"
      },
      "source": [
        "As our reference text, I've taken the Abstract of the [BERT paper](https://arxiv.org/pdf/1810.04805.pdf).\n"
      ]
    },
    {
      "cell_type": "code",
      "metadata": {
        "id": "y4VPq6FdjxyX",
        "colab": {
          "base_uri": "https://localhost:8080/"
        },
        "outputId": "983f0f6e-2285-4d93-fc02-d184ddc93431"
      },
      "source": [
        "import textwrap\n",
        "\n",
        "# Wrap text to 80 characters.\n",
        "wrapper = textwrap.TextWrapper(width=80) \n",
        "\n",
        "bert_abstract = \"We introduce a new language representation model called BERT, which stands for Bidirectional Encoder Representations from Transformers. Unlike recent language representation models (Peters et al., 2018a; Radford et al., 2018), BERT is designed to pretrain deep bidirectional representations from unlabeled text by jointly conditioning on both left and right context in all layers. As a result, the pre-trained BERT model can be finetuned with just one additional output layer to create state-of-the-art models for a wide range of tasks, such as question answering and language inference, without substantial taskspecific architecture modifications. BERT is conceptually simple and empirically powerful. It obtains new state-of-the-art results on eleven natural language processing tasks, including pushing the GLUE score to 80.5% (7.7% point absolute improvement), MultiNLI accuracy to 86.7% (4.6% absolute improvement), SQuAD v1.1 question answering Test F1 to 93.2 (1.5 point absolute improvement) and SQuAD v2.0 Test F1 to 83.1 (5.1 point absolute improvement).\"\n",
        "\n",
        "print(wrapper.fill(bert_abstract))"
      ],
      "execution_count": null,
      "outputs": [
        {
          "output_type": "stream",
          "text": [
            "We introduce a new language representation model called BERT, which stands for\n",
            "Bidirectional Encoder Representations from Transformers. Unlike recent language\n",
            "representation models (Peters et al., 2018a; Radford et al., 2018), BERT is\n",
            "designed to pretrain deep bidirectional representations from unlabeled text by\n",
            "jointly conditioning on both left and right context in all layers. As a result,\n",
            "the pre-trained BERT model can be finetuned with just one additional output\n",
            "layer to create state-of-the-art models for a wide range of tasks, such as\n",
            "question answering and language inference, without substantial taskspecific\n",
            "architecture modifications. BERT is conceptually simple and empirically\n",
            "powerful. It obtains new state-of-the-art results on eleven natural language\n",
            "processing tasks, including pushing the GLUE score to 80.5% (7.7% point absolute\n",
            "improvement), MultiNLI accuracy to 86.7% (4.6% absolute improvement), SQuAD v1.1\n",
            "question answering Test F1 to 93.2 (1.5 point absolute improvement) and SQuAD\n",
            "v2.0 Test F1 to 83.1 (5.1 point absolute improvement).\n"
          ],
          "name": "stdout"
        }
      ]
    },
    {
      "cell_type": "markdown",
      "metadata": {
        "id": "tEB654YCknYv"
      },
      "source": [
        "-----------------------------\n",
        "Ask ELECTRA what BERT name stands for (the answer is in the first sentence of the abstract)."
      ]
    },
    {
      "cell_type": "code",
      "metadata": {
        "id": "wfntqRCBegGj",
        "colab": {
          "base_uri": "https://localhost:8080/"
        },
        "outputId": "de97bde5-385a-4c29-fb93-f49a8c136177"
      },
      "source": [
        "question = \"What does the 'B' in BERT stand for?\"\n",
        "\n",
        "answer_question(question, bert_abstract)"
      ],
      "execution_count": null,
      "outputs": [
        {
          "output_type": "stream",
          "text": [
            "Question: What does the 'B' in BERT stand for?\n",
            "Answer: bidirectional encoder representations from transformers\n"
          ],
          "name": "stdout"
        }
      ]
    },
    {
      "cell_type": "markdown",
      "metadata": {
        "id": "B6HcijzxkTO9"
      },
      "source": [
        "---------------------\n",
        "Ask ELECTRA about example applications of BERT :)\n",
        "\n",
        "The answer to the question comes from this passage from the abstract: \n",
        "\n",
        "> \"...BERT model can be finetuned with just one additional output\n",
        "layer to create state-of-the-art models for **a wide range of tasks, such as\n",
        "question answering and language inference,** without substantial taskspecific\n",
        "architecture modifications.\""
      ]
    },
    {
      "cell_type": "code",
      "metadata": {
        "id": "MVNVGN5-gI06",
        "colab": {
          "base_uri": "https://localhost:8080/"
        },
        "outputId": "76d09bf0-11fa-48ee-f563-c6c01363542c"
      },
      "source": [
        "question = \"What are some example applications of BERT?\"\n",
        "\n",
        "answer_question(question, bert_abstract)"
      ],
      "execution_count": null,
      "outputs": [
        {
          "output_type": "stream",
          "text": [
            "Question: What are some example applications of BERT?\n",
            "Answer: question answering and language inference\n"
          ],
          "name": "stdout"
        }
      ]
    },
    {
      "cell_type": "code",
      "metadata": {
        "id": "uPE3_9X61H2l"
      },
      "source": [
        ""
      ],
      "execution_count": null,
      "outputs": []
    }
  ]
}